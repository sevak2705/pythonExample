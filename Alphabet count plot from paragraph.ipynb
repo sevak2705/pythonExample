{
 "cells": [
  {
   "cell_type": "markdown",
   "metadata": {},
   "source": [
    "Get alphabet from a paragraph"
   ]
  },
  {
   "cell_type": "code",
   "execution_count": 11,
   "metadata": {},
   "outputs": [],
   "source": [
    "paragraph = \"\"\" Catopsbaatar was a rodent-like mammal in the order \n",
    "Multituberculata that lived in what is now Mongolia during the Late Cretaceous epoch, \n",
    "about 72 million years ago \"\"\""
   ]
  },
  {
   "cell_type": "markdown",
   "metadata": {},
   "source": [
    "##### dictionary object\n",
    "for loop & get method which takes default value and add 1 as count start from zero."
   ]
  },
  {
   "cell_type": "code",
   "execution_count": 12,
   "metadata": {},
   "outputs": [],
   "source": [
    "alphabet_count = {}"
   ]
  },
  {
   "cell_type": "code",
   "execution_count": 13,
   "metadata": {},
   "outputs": [
    {
     "name": "stdout",
     "output_type": "stream",
     "text": [
      "{' ': 27, 'c': 3, 'a': 18, 't': 14, 'o': 11, 'p': 2, 's': 5, 'b': 3, 'r': 8, 'w': 3, 'd': 4, 'e': 12, 'n': 7, '-': 1, 'l': 3, 'i': 10, 'k': 1, 'm': 2, 'h': 5, '\\n': 2, 'u': 6, 'v': 1, 'g': 3, ',': 1, '7': 1, '2': 1, 'y': 1}\n"
     ]
    }
   ],
   "source": [
    "for letter in paragraph:\n",
    "    alphabet_count[letter.lower()] = alphabet_count.get(letter,0) + 1\n",
    "print(alphabet_count)"
   ]
  },
  {
   "cell_type": "code",
   "execution_count": 14,
   "metadata": {},
   "outputs": [
    {
     "data": {
      "text/plain": [
       "dict_items([(' ', 27), ('c', 3), ('a', 18), ('t', 14), ('o', 11), ('p', 2), ('s', 5), ('b', 3), ('r', 8), ('w', 3), ('d', 4), ('e', 12), ('n', 7), ('-', 1), ('l', 3), ('i', 10), ('k', 1), ('m', 2), ('h', 5), ('\\n', 2), ('u', 6), ('v', 1), ('g', 3), (',', 1), ('7', 1), ('2', 1), ('y', 1)])"
      ]
     },
     "execution_count": 14,
     "metadata": {},
     "output_type": "execute_result"
    }
   ],
   "source": [
    "alphabet_count.items()"
   ]
  },
  {
   "cell_type": "markdown",
   "metadata": {},
   "source": [
    "unzip dictionary object in 2 different varaible "
   ]
  },
  {
   "cell_type": "code",
   "execution_count": 15,
   "metadata": {},
   "outputs": [],
   "source": [
    "a,b = zip(*alphabet_count.items())"
   ]
  },
  {
   "cell_type": "markdown",
   "metadata": {},
   "source": [
    "now 'a' will have all key & 'b' will have all values"
   ]
  },
  {
   "cell_type": "markdown",
   "metadata": {},
   "source": [
    "remove space and any special character form key\n",
    "isalpha method checks for alphabet"
   ]
  },
  {
   "cell_type": "code",
   "execution_count": 16,
   "metadata": {},
   "outputs": [
    {
     "name": "stdout",
     "output_type": "stream",
     "text": [
      "dict_items([('c', 3), ('a', 18), ('t', 14), ('o', 11), ('p', 2), ('s', 5), ('b', 3), ('r', 8), ('w', 3), ('d', 4), ('e', 12), ('n', 7), ('l', 3), ('i', 10), ('k', 1), ('m', 2), ('h', 5), ('u', 6), ('v', 1), ('g', 3), ('y', 1)])\n"
     ]
    }
   ],
   "source": [
    "alphabet_count_clear = {}\n",
    "for k,v in alphabet_count.items():\n",
    "    if k.isalpha():\n",
    "        alphabet_count_clear[k] = v\n",
    "print(alphabet_count_clear.items())\n",
    "    \n"
   ]
  },
  {
   "cell_type": "markdown",
   "metadata": {},
   "source": [
    "now unzip our dictionary object"
   ]
  },
  {
   "cell_type": "code",
   "execution_count": 17,
   "metadata": {},
   "outputs": [],
   "source": [
    "a1,b1 = zip(*alphabet_count_clear.items())"
   ]
  },
  {
   "cell_type": "markdown",
   "metadata": {},
   "source": [
    "matplotlib to plot the graph with a1 & b1 values"
   ]
  },
  {
   "cell_type": "code",
   "execution_count": 18,
   "metadata": {},
   "outputs": [
    {
     "data": {
      "image/png": "[encoded data removed]",
      "text/plain": [
       "<Figure size 432x288 with 1 Axes>"
      ]
     },
     "metadata": {
      "needs_background": "light"
     },
     "output_type": "display_data"
    }
   ],
   "source": [
    "import matplotlib.pyplot as plt\n",
    "plt.bar(a1,b1)\n",
    "plt.show()"
   ]
  },
  {
   "cell_type": "code",
   "execution_count": null,
   "metadata": {},
   "outputs": [],
   "source": []
  }
 ],
 "metadata": {
  "kernelspec": {
   "display_name": "Python 3",
   "language": "python",
   "name": "python3"
  },
  "language_info": {
   "codemirror_mode": {
    "name": "ipython",
    "version": 3
   },
   "file_extension": ".py",
   "mimetype": "text/x-python",
   "name": "python",
   "nbconvert_exporter": "python",
   "pygments_lexer": "ipython3",
   "version": "3.7.6"
  }
 },
 "nbformat": 4,
 "nbformat_minor": 4
}
